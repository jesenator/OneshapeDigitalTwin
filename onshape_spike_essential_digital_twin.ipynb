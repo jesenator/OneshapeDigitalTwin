{
  "nbformat": 4,
  "nbformat_minor": 0,
  "metadata": {
    "colab": {
      "name": "onshape - spike essential digital twin.ipynb",
      "provenance": [],
      "collapsed_sections": [],
      "authorship_tag": "ABX9TyOYuyMTbxgovuOgqz06nETr",
      "include_colab_link": true
    },
    "kernelspec": {
      "name": "python3",
      "display_name": "Python 3"
    },
    "language_info": {
      "name": "python"
    }
  },
  "cells": [
    {
      "cell_type": "markdown",
      "metadata": {
        "id": "view-in-github",
        "colab_type": "text"
      },
      "source": [
        "<a href=\"https://colab.research.google.com/github/jesenator/OneshapeDigitalTwin/blob/main/onshape_spike_essential_digital_twin.ipynb\" target=\"_parent\"><img src=\"https://colab.research.google.com/assets/colab-badge.svg\" alt=\"Open In Colab\"/></a>"
      ]
    },
    {
      "cell_type": "code",
      "metadata": {
        "id": "hu_9FYELznaW"
      },
      "source": [
        "!pip install onshape-client\n",
        "from onshape_client.client import Client\n",
        "import json\n",
        "base = 'https://cad.onshape.com' # change this if you're using a document in an enterprise (i.e. \"https://ptc.onshape.com\")\n",
        "# base = 'https://rogers.onshape.com'\n",
        "## NEVER SHARE NOTEBOOKS WITH API KEYS\n",
        "client = Client(configuration={\"base_url\": base,\n",
        "                               \"access_key\": 'UwxVqTCamSWj4ysZR0Mhr8mF',\n",
        "                               \"secret_key\": 'pbsrt0Sz3AipOldWDURCE0JqTVQbq63olryiv1MaXqskfY2m'})\n"
      ],
      "execution_count": null,
      "outputs": []
    },
    {
      "cell_type": "code",
      "metadata": {
        "id": "j0NGr0o42UOK"
      },
      "source": [
        "def GetSetMates(positions):\n",
        "    fixed_url = '/api/assemblies/d/did/w/wid/e/eid/matevalues'\n",
        "\n",
        "    ## CHANGE THE INFORMATION BELOW TO MATCH YOUR ONSHAPE URL\n",
        "    # my test\n",
        "    did = '10ed223cd398711ddca751e6'\n",
        "    wid = 'd65667aedf7fb719ac29cfd0'\n",
        "    eid = '467c62f9a78873af82febde1'\n",
        "\n",
        "    # test 2\n",
        "    # https://rogers.onshape.com/documents/7b2ce3302675d0fe511eac3f/w/da950aaa33c6b77dcef74d3b/e/191688db5f24c58aa91ccc86\n",
        "    did = '7b2ce3302675d0fe511eac3f'\n",
        "    wid = 'da950aaa33c6b77dcef74d3b'\n",
        "    eid = '191688db5f24c58aa91ccc86'\n",
        "    method = 'GET'\n",
        "\n",
        "    params = {}\n",
        "    payload = {}\n",
        "    headers = {'Accept': 'application/vnd.onshape.v2+json',\n",
        "               'Content-Type': 'application/vnd.onshape.v2+json'}\n",
        "\n",
        "    fixed_url = fixed_url.replace('did', did)\n",
        "    fixed_url = fixed_url.replace('wid', wid)\n",
        "    fixed_url = fixed_url.replace('eid', eid)\n",
        "\n",
        "    response = client.api_client.request(method, url=base + fixed_url, query_params=params, headers=headers,\n",
        "                                         body=payload)\n",
        "    # print(response.data)\n",
        "\n",
        "    parsed = json.loads(response.data)\n",
        "    newMates = parsed\n",
        "    for i in range(len(positions)):\n",
        "        newMates['mateValues'][i]['rotationZ'] = positions[i]\n",
        "\n",
        "    # print(newMates)\n",
        "\n",
        "    method = 'POST'\n",
        "\n",
        "    params = {}\n",
        "    payload = newMates\n",
        "    headers = {'Accept': 'application/vnd.onshape.v2+json',\n",
        "               'Content-Type': 'application/vnd.onshape.v2+json'}\n",
        "    response = client.api_client.request(method, url=base + fixed_url, query_params=params, headers=headers,\n",
        "                                         body=payload)\n",
        "\n"
      ],
      "execution_count": null,
      "outputs": []
    },
    {
      "cell_type": "code",
      "metadata": {
        "id": "98iK_Vx4z0pm"
      },
      "source": [
        "!pip install paho-mqtt\n",
        "import paho.mqtt.client as mqtt\n",
        "import time\n",
        "\n",
        "def on_message(client, userdata, message):\n",
        "    print(\"==================\")\n",
        "    msg = message.payload.decode(\"utf-8\")\n",
        "    topic = message.topic\n",
        "    global speed\n",
        "    if msg == \"testing\":\n",
        "        pass\n",
        "    elif \"br\" in topic:\n",
        "        speeds[0] = int(msg)\n",
        "    elif \"fl\" in topic:\n",
        "        speeds[1] = int(msg)\n",
        "    elif \"fr\" in topic:\n",
        "        speeds[2] = int(msg)\n",
        "    elif \"bl\" in topic:\n",
        "        speeds[3] = int(msg)\n",
        "\n",
        "    # print(\"message received =\" ,str(msg))\n",
        "    # print(\"message topic =\",message.topic)\n",
        "    # # print(\"message qos=\",message.qos)\n",
        "    # print(\"message retain flag=\",message.retain)\n",
        "\n",
        "client_name = \"digital twin client\"\n",
        "MQTTclient = mqtt.Client(client_name, True, None)\n",
        "\n",
        "MQTTclient.username_pw_set(username=\"ceeo\", password=\"cee0prek!\")\n",
        "MQTTclient.connect(\"173.76.110.237\")\n",
        "MQTTclient.on_message=on_message\n",
        "\n",
        "MQTTclient.publish(\"test/message\", \"running \" + client_name)\n",
        "\n",
        "MQTTclient.subscribe(\"car/#\")\n",
        "MQTTclient.loop_start()\n",
        "\n",
        "wheels = 4\n",
        "speeds = [0] * wheels\n",
        "positions = [0.0] * wheels\n",
        "\n"
      ],
      "execution_count": null,
      "outputs": []
    },
    {
      "cell_type": "code",
      "metadata": {
        "id": "PGwvE02orMsJ",
        "collapsed": true
      },
      "source": [
        "while True:\n",
        "    time.sleep(.1)\n",
        "    for i in range(len(positions)):\n",
        "        positions[i]+=speeds[i] / 400\n",
        "        print(positions[i])\n",
        "    GetSetMates(positions)\n",
        "\n",
        "MQTTclient.loop_stop()\n"
      ],
      "execution_count": null,
      "outputs": []
    }
  ]
}